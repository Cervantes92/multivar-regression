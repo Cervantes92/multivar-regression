{
 "cells": [
  {
   "cell_type": "code",
   "execution_count": 149,
   "metadata": {
    "collapsed": true
   },
   "outputs": [],
   "source": [
    "import math\n",
    "\n",
    "import pandas as pd\n",
    "import numpy as np\n",
    "import seaborn as sns\n",
    "import matplotlib.pyplot as plt\n",
    "\n",
    "from sklearn import linear_model\n",
    "import statsmodels.formula.api as smf\n",
    "from IPython.display import display as dsp\n",
    "from sklearn.model_selection import train_test_split, cross_val_score\n",
    "from scipy import stats"
   ]
  },
  {
   "cell_type": "code",
   "execution_count": 150,
   "metadata": {
    "collapsed": false
   },
   "outputs": [
    {
     "data": {
      "text/html": [
       "<div>\n",
       "<style scoped>\n",
       "    .dataframe tbody tr th:only-of-type {\n",
       "        vertical-align: middle;\n",
       "    }\n",
       "\n",
       "    .dataframe tbody tr th {\n",
       "        vertical-align: top;\n",
       "    }\n",
       "\n",
       "    .dataframe thead th {\n",
       "        text-align: right;\n",
       "    }\n",
       "</style>\n",
       "<table border=\"1\" class=\"dataframe\">\n",
       "  <thead>\n",
       "    <tr style=\"text-align: right;\">\n",
       "      <th>3</th>\n",
       "      <th>City</th>\n",
       "      <th>Population</th>\n",
       "      <th>Violent Crimes</th>\n",
       "      <th>Murder</th>\n",
       "      <th>Rape Old</th>\n",
       "      <th>Rape New</th>\n",
       "      <th>Robbery</th>\n",
       "      <th>Aggrevated Assault</th>\n",
       "      <th>Property Crime</th>\n",
       "      <th>Burglary</th>\n",
       "      <th>Larceny-Theft</th>\n",
       "      <th>Motor Theft</th>\n",
       "      <th>Arson</th>\n",
       "    </tr>\n",
       "  </thead>\n",
       "  <tbody>\n",
       "    <tr>\n",
       "      <th>0</th>\n",
       "      <td>Adams Village</td>\n",
       "      <td>1861</td>\n",
       "      <td>0</td>\n",
       "      <td>0</td>\n",
       "      <td>NaN</td>\n",
       "      <td>0</td>\n",
       "      <td>0</td>\n",
       "      <td>0</td>\n",
       "      <td>12</td>\n",
       "      <td>2</td>\n",
       "      <td>10</td>\n",
       "      <td>0</td>\n",
       "      <td>0</td>\n",
       "    </tr>\n",
       "    <tr>\n",
       "      <th>1</th>\n",
       "      <td>Addison Town and Village</td>\n",
       "      <td>2577</td>\n",
       "      <td>3</td>\n",
       "      <td>0</td>\n",
       "      <td>NaN</td>\n",
       "      <td>0</td>\n",
       "      <td>0</td>\n",
       "      <td>3</td>\n",
       "      <td>24</td>\n",
       "      <td>3</td>\n",
       "      <td>20</td>\n",
       "      <td>1</td>\n",
       "      <td>0</td>\n",
       "    </tr>\n",
       "    <tr>\n",
       "      <th>2</th>\n",
       "      <td>Akron Village</td>\n",
       "      <td>2846</td>\n",
       "      <td>3</td>\n",
       "      <td>0</td>\n",
       "      <td>NaN</td>\n",
       "      <td>0</td>\n",
       "      <td>0</td>\n",
       "      <td>3</td>\n",
       "      <td>16</td>\n",
       "      <td>1</td>\n",
       "      <td>15</td>\n",
       "      <td>0</td>\n",
       "      <td>0</td>\n",
       "    </tr>\n",
       "    <tr>\n",
       "      <th>3</th>\n",
       "      <td>Albany</td>\n",
       "      <td>97956</td>\n",
       "      <td>791</td>\n",
       "      <td>8</td>\n",
       "      <td>NaN</td>\n",
       "      <td>30</td>\n",
       "      <td>227</td>\n",
       "      <td>526</td>\n",
       "      <td>4090</td>\n",
       "      <td>705</td>\n",
       "      <td>3243</td>\n",
       "      <td>142</td>\n",
       "      <td>NaN</td>\n",
       "    </tr>\n",
       "    <tr>\n",
       "      <th>4</th>\n",
       "      <td>Albion Village</td>\n",
       "      <td>6388</td>\n",
       "      <td>23</td>\n",
       "      <td>0</td>\n",
       "      <td>NaN</td>\n",
       "      <td>3</td>\n",
       "      <td>4</td>\n",
       "      <td>16</td>\n",
       "      <td>223</td>\n",
       "      <td>53</td>\n",
       "      <td>165</td>\n",
       "      <td>5</td>\n",
       "      <td>NaN</td>\n",
       "    </tr>\n",
       "  </tbody>\n",
       "</table>\n",
       "</div>"
      ],
      "text/plain": [
       "3                      City Population Violent Crimes Murder Rape Old  \\\n",
       "0             Adams Village       1861              0      0      NaN   \n",
       "1  Addison Town and Village       2577              3      0      NaN   \n",
       "2             Akron Village       2846              3      0      NaN   \n",
       "3                    Albany      97956            791      8      NaN   \n",
       "4            Albion Village       6388             23      0      NaN   \n",
       "\n",
       "3 Rape New Robbery Aggrevated Assault Property Crime Burglary Larceny-Theft  \\\n",
       "0        0       0                  0             12        2            10   \n",
       "1        0       0                  3             24        3            20   \n",
       "2        0       0                  3             16        1            15   \n",
       "3       30     227                526           4090      705          3243   \n",
       "4        3       4                 16            223       53           165   \n",
       "\n",
       "3 Motor Theft Arson  \n",
       "0           0     0  \n",
       "1           1     0  \n",
       "2           0     0  \n",
       "3         142   NaN  \n",
       "4           5   NaN  "
      ]
     },
     "metadata": {},
     "output_type": "display_data"
    },
    {
     "name": "stdout",
     "output_type": "stream",
     "text": [
      "[0 227 4 3 31 12 22 1 13 101 10 5 1322 9 2 48 17 11 8 29 7 76 19 6 60 16\n",
      " 204 51 39 20 25 24 47 228 150 15 81 19170 166 21 100 26 918 23 203 34 400\n",
      " 145 102 28 390 nan]\n",
      "Index(['City', 'Population', 'Violent Crimes', 'Murder', 'Rape Old',\n",
      "       'Rape New', 'Robbery', 'Aggrevated Assault', 'Property Crime',\n",
      "       'Burglary', 'Larceny-Theft', 'Motor Theft', 'Arson'],\n",
      "      dtype='object', name=3)\n"
     ]
    }
   ],
   "source": [
    "crime = pd.read_excel('data/table_8_offenses_known_to_law_enforcement_new_york_by_city_2013.xls')\n",
    "\n",
    "crime.columns = crime.iloc[3]\n",
    "crime.drop(crime.index[[0,1,2,3]], inplace = True)\n",
    "crime.index = range(len(crime))\n",
    "crime.rename(index = str, columns = {'Violent\\ncrime' : 'Violent Crimes',\n",
    "              'Murder and\\nnonnegligent\\nmanslaughter': 'Murder',\n",
    "              'Rape\\n(revised\\ndefinition)1': 'Rape Old', \n",
    "              'Rape\\n(legacy\\ndefinition)2' : 'Rape New',\n",
    "              'Aggravated\\nassault' : 'Aggrevated Assault', \n",
    "              'Property\\ncrime' : 'Property Crime',\n",
    "              'Larceny-\\ntheft' : 'Larceny-Theft', \n",
    "              'Motor\\nvehicle\\ntheft' : 'Motor Theft', 'Arson3' : 'Arson'}, inplace = True)\n",
    "\n",
    "dsp(crime.head())\n",
    "print(crime['Robbery'].unique())\n",
    "print(crime.columns)"
   ]
  },
  {
   "cell_type": "code",
   "execution_count": 151,
   "metadata": {
    "collapsed": false
   },
   "outputs": [
    {
     "data": {
      "text/html": [
       "<div>\n",
       "<style scoped>\n",
       "    .dataframe tbody tr th:only-of-type {\n",
       "        vertical-align: middle;\n",
       "    }\n",
       "\n",
       "    .dataframe tbody tr th {\n",
       "        vertical-align: top;\n",
       "    }\n",
       "\n",
       "    .dataframe thead th {\n",
       "        text-align: right;\n",
       "    }\n",
       "</style>\n",
       "<table border=\"1\" class=\"dataframe\">\n",
       "  <thead>\n",
       "    <tr style=\"text-align: right;\">\n",
       "      <th></th>\n",
       "      <th>City</th>\n",
       "      <th>Property Crime</th>\n",
       "      <th>Population</th>\n",
       "      <th>Pop^2</th>\n",
       "      <th>Murder</th>\n",
       "      <th>Robbery</th>\n",
       "    </tr>\n",
       "  </thead>\n",
       "  <tbody>\n",
       "    <tr>\n",
       "      <th>0</th>\n",
       "      <td>Adams Village</td>\n",
       "      <td>10</td>\n",
       "      <td>1861</td>\n",
       "      <td>3463321</td>\n",
       "      <td>0</td>\n",
       "      <td>0</td>\n",
       "    </tr>\n",
       "    <tr>\n",
       "      <th>1</th>\n",
       "      <td>Addison Town and Village</td>\n",
       "      <td>21</td>\n",
       "      <td>2577</td>\n",
       "      <td>6640929</td>\n",
       "      <td>0</td>\n",
       "      <td>0</td>\n",
       "    </tr>\n",
       "    <tr>\n",
       "      <th>2</th>\n",
       "      <td>Akron Village</td>\n",
       "      <td>15</td>\n",
       "      <td>2846</td>\n",
       "      <td>8099716</td>\n",
       "      <td>0</td>\n",
       "      <td>0</td>\n",
       "    </tr>\n",
       "    <tr>\n",
       "      <th>6</th>\n",
       "      <td>Allegany Village</td>\n",
       "      <td>10</td>\n",
       "      <td>1781</td>\n",
       "      <td>3171961</td>\n",
       "      <td>0</td>\n",
       "      <td>0</td>\n",
       "    </tr>\n",
       "    <tr>\n",
       "      <th>7</th>\n",
       "      <td>Amherst Town</td>\n",
       "      <td>1917</td>\n",
       "      <td>118296</td>\n",
       "      <td>13993943616</td>\n",
       "      <td>1</td>\n",
       "      <td>31</td>\n",
       "    </tr>\n",
       "  </tbody>\n",
       "</table>\n",
       "</div>"
      ],
      "text/plain": [
       "                       City Property Crime Population        Pop^2 Murder  \\\n",
       "0             Adams Village             10       1861      3463321      0   \n",
       "1  Addison Town and Village             21       2577      6640929      0   \n",
       "2             Akron Village             15       2846      8099716      0   \n",
       "6          Allegany Village             10       1781      3171961      0   \n",
       "7              Amherst Town           1917     118296  13993943616      1   \n",
       "\n",
       "  Robbery  \n",
       "0       0  \n",
       "1       0  \n",
       "2       0  \n",
       "6       0  \n",
       "7      31  "
      ]
     },
     "metadata": {},
     "output_type": "display_data"
    }
   ],
   "source": [
    "pop2 = crime['Population'] ** 2\n",
    "pop2.rename(\"Pop^2\", inplace = True)\n",
    "\n",
    "Y = crime['Larceny-Theft'] + crime['Motor Theft'] + crime['Arson']\n",
    "Y.rename('Property Crime', inplace = True)\n",
    "\n",
    "features = pd.concat([crime['City'], Y, crime['Population'], pop2, \n",
    "                      crime['Murder'], crime['Robbery']], axis = 1)\n",
    "\n",
    "features.dropna(inplace = True)\n",
    "\n",
    "#Drop Outliers\n",
    "\n",
    "\n",
    "dsp(features.head())"
   ]
  },
  {
   "cell_type": "code",
   "execution_count": 152,
   "metadata": {
    "collapsed": false
   },
   "outputs": [
    {
     "data": {
      "text/html": [
       "<div>\n",
       "<style scoped>\n",
       "    .dataframe tbody tr th:only-of-type {\n",
       "        vertical-align: middle;\n",
       "    }\n",
       "\n",
       "    .dataframe tbody tr th {\n",
       "        vertical-align: top;\n",
       "    }\n",
       "\n",
       "    .dataframe thead th {\n",
       "        text-align: right;\n",
       "    }\n",
       "</style>\n",
       "<table border=\"1\" class=\"dataframe\">\n",
       "  <thead>\n",
       "    <tr style=\"text-align: right;\">\n",
       "      <th></th>\n",
       "      <th>City</th>\n",
       "      <th>Property Crime</th>\n",
       "      <th>Population</th>\n",
       "      <th>Pop^2</th>\n",
       "      <th>Murder</th>\n",
       "      <th>Robbery</th>\n",
       "      <th>BinMurder</th>\n",
       "      <th>BinRobbery</th>\n",
       "    </tr>\n",
       "  </thead>\n",
       "  <tbody>\n",
       "    <tr>\n",
       "      <th>0</th>\n",
       "      <td>Adams Village</td>\n",
       "      <td>10</td>\n",
       "      <td>1861</td>\n",
       "      <td>3463321</td>\n",
       "      <td>0</td>\n",
       "      <td>0</td>\n",
       "      <td>0</td>\n",
       "      <td>0</td>\n",
       "    </tr>\n",
       "    <tr>\n",
       "      <th>1</th>\n",
       "      <td>Addison Town and Village</td>\n",
       "      <td>21</td>\n",
       "      <td>2577</td>\n",
       "      <td>6640929</td>\n",
       "      <td>0</td>\n",
       "      <td>0</td>\n",
       "      <td>0</td>\n",
       "      <td>0</td>\n",
       "    </tr>\n",
       "    <tr>\n",
       "      <th>2</th>\n",
       "      <td>Akron Village</td>\n",
       "      <td>15</td>\n",
       "      <td>2846</td>\n",
       "      <td>8099716</td>\n",
       "      <td>0</td>\n",
       "      <td>0</td>\n",
       "      <td>0</td>\n",
       "      <td>0</td>\n",
       "    </tr>\n",
       "    <tr>\n",
       "      <th>6</th>\n",
       "      <td>Allegany Village</td>\n",
       "      <td>10</td>\n",
       "      <td>1781</td>\n",
       "      <td>3171961</td>\n",
       "      <td>0</td>\n",
       "      <td>0</td>\n",
       "      <td>0</td>\n",
       "      <td>0</td>\n",
       "    </tr>\n",
       "    <tr>\n",
       "      <th>7</th>\n",
       "      <td>Amherst Town</td>\n",
       "      <td>1917</td>\n",
       "      <td>118296</td>\n",
       "      <td>13993943616</td>\n",
       "      <td>1</td>\n",
       "      <td>31</td>\n",
       "      <td>1</td>\n",
       "      <td>1</td>\n",
       "    </tr>\n",
       "  </tbody>\n",
       "</table>\n",
       "</div>"
      ],
      "text/plain": [
       "                       City Property Crime Population        Pop^2 Murder  \\\n",
       "0             Adams Village             10       1861      3463321      0   \n",
       "1  Addison Town and Village             21       2577      6640929      0   \n",
       "2             Akron Village             15       2846      8099716      0   \n",
       "6          Allegany Village             10       1781      3171961      0   \n",
       "7              Amherst Town           1917     118296  13993943616      1   \n",
       "\n",
       "  Robbery  BinMurder  BinRobbery  \n",
       "0       0          0           0  \n",
       "1       0          0           0  \n",
       "2       0          0           0  \n",
       "6       0          0           0  \n",
       "7      31          1           1  "
      ]
     },
     "metadata": {},
     "output_type": "display_data"
    },
    {
     "name": "stdout",
     "output_type": "stream",
     "text": [
      "Population data type: <class 'pandas.core.series.Series'>\n",
      "Length: 187\n",
      "<class 'numpy.ndarray'>\n"
     ]
    }
   ],
   "source": [
    "features['BinMurder'] = (features['Murder'].apply(lambda x : np.where(x > 0, 1, 0)))\n",
    "features['BinRobbery'] = (features['Robbery'].apply(lambda x : np.where(x > 0, 1, 0)))\n",
    "#Ask how to incorporate binary vars in linear regression model\n",
    "dsp(features.head())\n",
    "\n",
    "print('Population data type: {}'.format(type(features['Population'])))\n",
    "print('Length: {}'.format(len(features['City'])))\n",
    "\n",
    "\n",
    "print(type(features['Population'].values))\n",
    "#print(features['Population'])\n",
    "#print('Cities Represented', features['City'].unique())"
   ]
  },
  {
   "cell_type": "code",
   "execution_count": 153,
   "metadata": {
    "collapsed": false
   },
   "outputs": [
    {
     "name": "stdout",
     "output_type": "stream",
     "text": [
      "<class 'list'>\n"
     ]
    },
    {
     "data": {
      "image/png": "[encoded data removed]",
      "text/plain": [
       "<Figure size 432x288 with 1 Axes>"
      ]
     },
     "metadata": {},
     "output_type": "display_data"
    }
   ],
   "source": [
    "a = list(features['Population'].values)\n",
    "#a = [1,2,2,3,4,5,5]\n",
    "print(type(a))\n",
    "\n",
    "#plt.hist(features['Population'].values)\n",
    "plt.hist(a)\n",
    "plt.title('Population Histogram')\n",
    "plt.show()"
   ]
  },
  {
   "cell_type": "markdown",
   "metadata": {},
   "source": [
    "# Initiate and Train Model"
   ]
  },
  {
   "cell_type": "code",
   "execution_count": 154,
   "metadata": {
    "collapsed": false
   },
   "outputs": [
    {
     "name": "stdout",
     "output_type": "stream",
     "text": [
      "\n",
      "Coefficients:\n",
      " [ 2.03586474e-02 -6.25537459e-08  1.06692043e+02  1.41745215e+00]\n",
      "\n",
      "Intercepts:\n",
      " -48.55186156511883\n",
      "\n",
      "R-Squared:\n",
      " 0.919340218339979\n"
     ]
    }
   ],
   "source": [
    "#Select Features\n",
    "Y = features['Property Crime']\n",
    "\n",
    "X = features[['Population', 'Pop^2', 'Murder', 'Robbery']]\n",
    "X2 = features[['Population', 'Pop^2', 'BinMurder', 'BinRobbery']]\n",
    "\n",
    "#Initiate and Fit model\n",
    "regr = linear_model.LinearRegression()\n",
    "regr.fit(X,Y)\n",
    "\n",
    "#Create prediction sets\n",
    "predicted = regr.predict(X).ravel()\n",
    "predicted2 = regr.predict(X2).ravel()\n",
    "\n",
    "#Check Model\n",
    "print('\\nCoefficients:\\n', regr.coef_)\n",
    "print('\\nIntercepts:\\n', regr.intercept_)\n",
    "print('\\nR-Squared:\\n', regr.score(X,Y))"
   ]
  },
  {
   "cell_type": "markdown",
   "metadata": {},
   "source": [
    "# Check Model Assumptions\n",
    "__Linear Relationships with Outcome__\n"
   ]
  },
  {
   "cell_type": "code",
   "execution_count": 155,
   "metadata": {
    "collapsed": false
   },
   "outputs": [
    {
     "name": "stdout",
     "output_type": "stream",
     "text": [
      "Population\n",
      "Pop^2\n",
      "Murder\n",
      "Robbery\n"
     ]
    },
    {
     "data": {
      "image/png": "[encoded data removed]",
      "text/plain": [
       "<Figure size 720x720 with 4 Axes>"
      ]
     },
     "metadata": {},
     "output_type": "display_data"
    }
   ],
   "source": [
    "def plotme(X, Y, dimx, dimy):\n",
    "    plt.figure(figsize = (10,10))\n",
    "    i = 0\n",
    "    while i < len(X.columns):\n",
    "        print(X.columns[i])\n",
    "        \n",
    "        plt.subplot(dimx, dimy, i + 1)\n",
    "        \n",
    "        plt.scatter(Y, X[str(X.columns[i])])\n",
    "        plt.title('{} vs Property Crimes'.format(X.columns[i]))\n",
    "        \n",
    "        plt.xlabel('Property Crimes')\n",
    "        plt.ylabel(str(X.columns[i]))\n",
    "        \n",
    "        i += 1\n",
    "    plt.tight_layout()\n",
    "    plt.show()\n",
    "\n",
    "plotme(X, Y, 2, 2)"
   ]
  },
  {
   "cell_type": "markdown",
   "metadata": {},
   "source": [
    "__Multivariate Normality__"
   ]
  },
  {
   "cell_type": "code",
   "execution_count": 156,
   "metadata": {
    "collapsed": false
   },
   "outputs": [
    {
     "data": {
      "image/png": "[encoded data removed]",
      "text/plain": [
       "<Figure size 432x288 with 1 Axes>"
      ]
     },
     "metadata": {},
     "output_type": "display_data"
    }
   ],
   "source": [
    "def multi_norm(X, Y, predicted):\n",
    "    actual = Y\n",
    "    residual = actual - predicted\n",
    "    \n",
    "    plt.hist(list(residual))\n",
    "    plt.title('Residual counts')\n",
    "    plt.xlabel('Residual')\n",
    "    plt.ylabel('Count')\n",
    "    plt.show()\n",
    "    \n",
    "multi_norm(X, Y, predicted) #Functs up when I run cell independantly"
   ]
  },
  {
   "cell_type": "markdown",
   "metadata": {},
   "source": [
    "__Homoscedasticity__"
   ]
  },
  {
   "cell_type": "code",
   "execution_count": 157,
   "metadata": {
    "collapsed": false
   },
   "outputs": [
    {
     "data": {
      "image/png": "[encoded data removed]",
      "text/plain": [
       "<Figure size 432x288 with 1 Axes>"
      ]
     },
     "metadata": {},
     "output_type": "display_data"
    }
   ],
   "source": [
    "def homosced(X, Y, predicted):\n",
    "    actual = Y\n",
    "    residual = actual - predicted\n",
    "    \n",
    "    plt.scatter(predicted, residual)\n",
    "    plt.xlabel('Predicted')\n",
    "    plt.ylabel('Residual')\n",
    "    plt.axhline(y = 0)\n",
    "    plt.title('Residual vs. Predicted')\n",
    "    plt.show()\n",
    "    \n",
    "homosced(X, Y, predicted)"
   ]
  },
  {
   "cell_type": "markdown",
   "metadata": {},
   "source": [
    "__Low Multicolinearity__"
   ]
  },
  {
   "cell_type": "code",
   "execution_count": 158,
   "metadata": {
    "collapsed": false
   },
   "outputs": [
    {
     "name": "stdout",
     "output_type": "stream",
     "text": [
      "Empty DataFrame\n",
      "Columns: []\n",
      "Index: []\n",
      "            BinMurder  BinRobbery\n",
      "BinMurder     1.00000     0.35378\n",
      "BinRobbery    0.35378     1.00000\n"
     ]
    }
   ],
   "source": [
    "#dsp(X.head())\n",
    "#correlation_matrix = X.corr()\n",
    "print(X.corr()) #Wat?\n",
    "\n",
    "print(X2.corr())"
   ]
  },
  {
   "cell_type": "markdown",
   "metadata": {},
   "source": [
    "# Model Validation\n",
    "__R-Square, Holdout, Folds__"
   ]
  },
  {
   "cell_type": "code",
   "execution_count": 159,
   "metadata": {
    "collapsed": false
   },
   "outputs": [
    {
     "name": "stdout",
     "output_type": "stream",
     "text": [
      "Non-Binary Features:\n",
      "\n",
      "R-Square:  0.919340218339979\n",
      "\n",
      "20.0% holdout:\n",
      " 0.6799398782226179\n",
      "\n",
      "5 folds:\n",
      " [ 0.68910136  0.7126779  -1.68773782  0.71618601  0.55291084]\n",
      "\n",
      "\n",
      "Binary Features:\n",
      "\n",
      "R-Square:  0.7274053806941895\n",
      "\n",
      "20.0% holdout:\n",
      " 0.587220130114001\n",
      "\n",
      "5 folds:\n",
      " [0.85543979 0.72102868 0.40430152 0.65552872 0.75079295]\n"
     ]
    }
   ],
   "source": [
    "def model_validation(mod, X, Y, holdout, folds):\n",
    "    print('R-Square: ', mod.score(X,Y))\n",
    "    \n",
    "    X_train, X_test, Y_train, Y_test = train_test_split(X, Y, test_size = holdout, random_state = 101)\n",
    "    print('\\n{}% holdout:\\n {}'.format(100 * holdout, mod.fit(X_train, Y_train).score(X_test, Y_test)))\n",
    "    \n",
    "    print('\\n{} folds:\\n {}'.format(folds, cross_val_score(mod, X, Y, cv = folds)))\n",
    "    \n",
    "\n",
    "print('Non-Binary Features:\\n')    \n",
    "model_validation(regr, X, Y, 0.20, 5)\n",
    "\n",
    "\n",
    "print('\\n\\nBinary Features:\\n')\n",
    "model_validation(regr, X2, Y, 0.20, 5)\n",
    "#Print R-Square\n",
    "#print('R-Squared: ', regr.score(X,Y))\n",
    "\n",
    "#holdout = 0.2\n",
    "#X_train, X_test, Y_train, Y_test = train_test_split(X, Y, test_size = holdout, random_state = 101)\n",
    "\n",
    "\n",
    "#print('\\n{}% holdout:\\n {}'.format(100 * holdout, regr.fit(X_train, Y_train).score(X_test, Y_test)))\n",
    "\n",
    "#folds = 5\n",
    "\n",
    "#print('\\n{} folds:\\n {}'.format(folds, cross_val_score(regr, X, Y, cv = folds)))"
   ]
  },
  {
   "cell_type": "markdown",
   "metadata": {},
   "source": [
    "# Revisions\n",
    "__Original Model Write-up__\n",
    "\n",
    "My original model was based on a linear combination of the population, the square of the population, murder and robbery. I took a look at training the model both on the magnitudes of the number of robberies and murders and the binary presence/abscence of robberies or murders."
   ]
  },
  {
   "cell_type": "code",
   "execution_count": 160,
   "metadata": {
    "collapsed": false
   },
   "outputs": [
    {
     "data": {
      "text/html": [
       "<div>\n",
       "<style scoped>\n",
       "    .dataframe tbody tr th:only-of-type {\n",
       "        vertical-align: middle;\n",
       "    }\n",
       "\n",
       "    .dataframe tbody tr th {\n",
       "        vertical-align: top;\n",
       "    }\n",
       "\n",
       "    .dataframe thead th {\n",
       "        text-align: right;\n",
       "    }\n",
       "</style>\n",
       "<table border=\"1\" class=\"dataframe\">\n",
       "  <thead>\n",
       "    <tr style=\"text-align: right;\">\n",
       "      <th></th>\n",
       "      <th>City</th>\n",
       "      <th>Property Crime</th>\n",
       "      <th>Population</th>\n",
       "      <th>Pop^2</th>\n",
       "      <th>Murder</th>\n",
       "      <th>Robbery</th>\n",
       "      <th>BinMurder</th>\n",
       "      <th>BinRobbery</th>\n",
       "    </tr>\n",
       "  </thead>\n",
       "  <tbody>\n",
       "    <tr>\n",
       "      <th>0</th>\n",
       "      <td>Adams Village</td>\n",
       "      <td>10</td>\n",
       "      <td>1861</td>\n",
       "      <td>3463321</td>\n",
       "      <td>0</td>\n",
       "      <td>0</td>\n",
       "      <td>0</td>\n",
       "      <td>0</td>\n",
       "    </tr>\n",
       "    <tr>\n",
       "      <th>1</th>\n",
       "      <td>Addison Town and Village</td>\n",
       "      <td>21</td>\n",
       "      <td>2577</td>\n",
       "      <td>6640929</td>\n",
       "      <td>0</td>\n",
       "      <td>0</td>\n",
       "      <td>0</td>\n",
       "      <td>0</td>\n",
       "    </tr>\n",
       "    <tr>\n",
       "      <th>2</th>\n",
       "      <td>Akron Village</td>\n",
       "      <td>15</td>\n",
       "      <td>2846</td>\n",
       "      <td>8099716</td>\n",
       "      <td>0</td>\n",
       "      <td>0</td>\n",
       "      <td>0</td>\n",
       "      <td>0</td>\n",
       "    </tr>\n",
       "    <tr>\n",
       "      <th>6</th>\n",
       "      <td>Allegany Village</td>\n",
       "      <td>10</td>\n",
       "      <td>1781</td>\n",
       "      <td>3171961</td>\n",
       "      <td>0</td>\n",
       "      <td>0</td>\n",
       "      <td>0</td>\n",
       "      <td>0</td>\n",
       "    </tr>\n",
       "    <tr>\n",
       "      <th>7</th>\n",
       "      <td>Amherst Town</td>\n",
       "      <td>1917</td>\n",
       "      <td>118296</td>\n",
       "      <td>13993943616</td>\n",
       "      <td>1</td>\n",
       "      <td>31</td>\n",
       "      <td>1</td>\n",
       "      <td>1</td>\n",
       "    </tr>\n",
       "  </tbody>\n",
       "</table>\n",
       "</div>"
      ],
      "text/plain": [
       "                       City Property Crime Population        Pop^2 Murder  \\\n",
       "0             Adams Village             10       1861      3463321      0   \n",
       "1  Addison Town and Village             21       2577      6640929      0   \n",
       "2             Akron Village             15       2846      8099716      0   \n",
       "6          Allegany Village             10       1781      3171961      0   \n",
       "7              Amherst Town           1917     118296  13993943616      1   \n",
       "\n",
       "  Robbery  BinMurder  BinRobbery  \n",
       "0       0          0           0  \n",
       "1       0          0           0  \n",
       "2       0          0           0  \n",
       "6       0          0           0  \n",
       "7      31          1           1  "
      ]
     },
     "metadata": {},
     "output_type": "display_data"
    }
   ],
   "source": [
    "#Remove Outliers\n",
    "q = features['Population'].quantile(0.90)\n",
    "features[features['Population'] < q]\n",
    "dsp(features.head())\n",
    "\n",
    "Y = features['Property Crime']\n",
    "\n",
    "X = features[['Population', 'Pop^2', 'Murder', 'Robbery']]\n",
    "X2 = features[['Population', 'Pop^2', 'BinMurder', 'BinRobbery']]\n",
    "\n",
    "predicted = regr.predict(X).ravel()\n",
    "predicted2 = regr.predict(X2).ravel()"
   ]
  },
  {
   "cell_type": "markdown",
   "metadata": {},
   "source": [
    "# Check Assumptions\n",
    "__Linear Correlation with Outcome__"
   ]
  },
  {
   "cell_type": "code",
   "execution_count": 161,
   "metadata": {
    "collapsed": false
   },
   "outputs": [
    {
     "name": "stdout",
     "output_type": "stream",
     "text": [
      "Population\n",
      "Pop^2\n",
      "Murder\n",
      "Robbery\n"
     ]
    },
    {
     "data": {
      "image/png": "[encoded data removed]",
      "text/plain": [
       "<Figure size 720x720 with 4 Axes>"
      ]
     },
     "metadata": {},
     "output_type": "display_data"
    }
   ],
   "source": [
    "plotme(X, Y, 2, 2)"
   ]
  },
  {
   "cell_type": "markdown",
   "metadata": {},
   "source": [
    "__Multivatiate Normality__"
   ]
  },
  {
   "cell_type": "code",
   "execution_count": 162,
   "metadata": {
    "collapsed": false
   },
   "outputs": [
    {
     "data": {
      "image/png": "[encoded data removed]",
      "text/plain": [
       "<Figure size 432x288 with 1 Axes>"
      ]
     },
     "metadata": {},
     "output_type": "display_data"
    }
   ],
   "source": [
    "multi_norm(X, Y, predicted) #Wat?"
   ]
  },
  {
   "cell_type": "markdown",
   "metadata": {},
   "source": [
    "__Homoscedasticity__"
   ]
  },
  {
   "cell_type": "code",
   "execution_count": 163,
   "metadata": {
    "collapsed": false
   },
   "outputs": [
    {
     "data": {
      "image/png": "[encoded data removed]",
      "text/plain": [
       "<Figure size 432x288 with 1 Axes>"
      ]
     },
     "metadata": {},
     "output_type": "display_data"
    }
   ],
   "source": [
    "homosced(X, Y, predicted)"
   ]
  },
  {
   "cell_type": "markdown",
   "metadata": {},
   "source": [
    "__Low Multicolinearity__"
   ]
  },
  {
   "cell_type": "code",
   "execution_count": 164,
   "metadata": {
    "collapsed": false
   },
   "outputs": [
    {
     "name": "stdout",
     "output_type": "stream",
     "text": [
      "Correlation Matrix:\n",
      " Empty DataFrame\n",
      "Columns: []\n",
      "Index: []\n"
     ]
    }
   ],
   "source": [
    "print('Correlation Matrix:\\n',X.corr())"
   ]
  }
 ],
 "metadata": {
  "kernelspec": {
   "display_name": "Python 3",
   "language": "python",
   "name": "python3"
  },
  "language_info": {
   "codemirror_mode": {
    "name": "ipython",
    "version": 3
   },
   "file_extension": ".py",
   "mimetype": "text/x-python",
   "name": "python",
   "nbconvert_exporter": "python",
   "pygments_lexer": "ipython3",
   "version": "3.6.0"
  }
 },
 "nbformat": 4,
 "nbformat_minor": 2
}
